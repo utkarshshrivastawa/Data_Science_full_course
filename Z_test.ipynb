{
 "cells": [
  {
   "cell_type": "code",
   "execution_count": 1,
   "id": "92625abb-27f3-4595-bb6c-9703d9e9dead",
   "metadata": {},
   "outputs": [],
   "source": [
    "import scipy.stats as st \n",
    "import numpy as np"
   ]
  },
  {
   "cell_type": "code",
   "execution_count": 2,
   "id": "00b528f5-8299-4d38-9116-ecb133804e17",
   "metadata": {},
   "outputs": [],
   "source": [
    "s_x = 90\n",
    "p_u =82\n",
    "p_std = 20\n",
    "n = 81"
   ]
  },
  {
   "cell_type": "code",
   "execution_count": 3,
   "id": "f11e3c30-8d71-4929-b99a-8227a4b916a6",
   "metadata": {},
   "outputs": [],
   "source": [
    "z_cal = (s_x - p_u)/(p_std/np.sqrt(n))"
   ]
  },
  {
   "cell_type": "code",
   "execution_count": 4,
   "id": "8d545d0e-bc48-4181-9e27-37250955668e",
   "metadata": {},
   "outputs": [
    {
     "data": {
      "text/plain": [
       "3.5999999999999996"
      ]
     },
     "execution_count": 4,
     "metadata": {},
     "output_type": "execute_result"
    }
   ],
   "source": [
    "z_cal"
   ]
  },
  {
   "cell_type": "code",
   "execution_count": 5,
   "id": "ff0a66fc-6bb0-43a2-b5e7-bdb02adcb42b",
   "metadata": {},
   "outputs": [],
   "source": [
    "z_table = st.norm.ppf(0.95)"
   ]
  },
  {
   "cell_type": "code",
   "execution_count": 6,
   "id": "ab3c65ba-c21c-4c31-984e-38f9fac11b68",
   "metadata": {},
   "outputs": [
    {
     "data": {
      "text/plain": [
       "1.6448536269514722"
      ]
     },
     "execution_count": 6,
     "metadata": {},
     "output_type": "execute_result"
    }
   ],
   "source": [
    "z_table"
   ]
  },
  {
   "cell_type": "code",
   "execution_count": 7,
   "id": "40233dda-d8d3-4248-9598-f0b70febb909",
   "metadata": {},
   "outputs": [
    {
     "name": "stdout",
     "output_type": "stream",
     "text": [
      "Ha is right \n"
     ]
    }
   ],
   "source": [
    "if z_table < z_cal :\n",
    "    print(\"Ha is right \")\n",
    "else:\n",
    "    print(\"H0 is right \")"
   ]
  },
  {
   "cell_type": "markdown",
   "id": "3de8950c-1316-4878-95c1-a624cf80bc47",
   "metadata": {},
   "source": [
    "# If populatio mean is not given then \n",
    "## Z-Test = [(X_new - X_old)-(u_new - u_old)/(population_std / square_root(n))]"
   ]
  },
  {
   "cell_type": "code",
   "execution_count": 8,
   "id": "c7c4e2e3-eaba-4b56-97ab-f62bf062ce6e",
   "metadata": {},
   "outputs": [],
   "source": [
    "Old_design_data =np.array([45.2,42.8,38.9,43.5,41.0,44.6,40.5])\n",
    "new_design_data =np.array([48.5,49.1,50.2,47.8,49.9,48.7,48.0])"
   ]
  },
  {
   "cell_type": "code",
   "execution_count": 9,
   "id": "f7cba718-e6fd-4702-afd2-3a359074d255",
   "metadata": {},
   "outputs": [],
   "source": [
    "X_new = np.mean(new_design_data)\n",
    "X_old = np.mean(Old_design_data)"
   ]
  },
  {
   "cell_type": "code",
   "execution_count": 10,
   "id": "c18f0c4f-b4f3-489c-9039-99c905868657",
   "metadata": {},
   "outputs": [],
   "source": [
    "pop_std = 2.5\n",
    "n = 30 "
   ]
  },
  {
   "cell_type": "code",
   "execution_count": 13,
   "id": "39873b22-b5d2-4ef3-8735-2fade3b060ab",
   "metadata": {},
   "outputs": [],
   "source": [
    "z_Test =  (X_new - X_old)/(pop_std / np.sqrt(n))"
   ]
  },
  {
   "cell_type": "code",
   "execution_count": 14,
   "id": "26b2f681-764e-40e6-8c88-d14372a4d847",
   "metadata": {},
   "outputs": [
    {
     "data": {
      "text/plain": [
       "14.303383358849217"
      ]
     },
     "execution_count": 14,
     "metadata": {},
     "output_type": "execute_result"
    }
   ],
   "source": [
    "z_Test"
   ]
  },
  {
   "cell_type": "code",
   "execution_count": 15,
   "id": "5173a7b2-60e4-4cfb-a5cb-c8171037910a",
   "metadata": {},
   "outputs": [
    {
     "name": "stdout",
     "output_type": "stream",
     "text": [
      "Ha is right \n"
     ]
    }
   ],
   "source": [
    "if z_table < z_Test :\n",
    "    print(\"Ha is right \")\n",
    "else:\n",
    "    print(\"H0 is right \")"
   ]
  },
  {
   "cell_type": "code",
   "execution_count": null,
   "id": "41f7578a-95ab-4664-92a0-8995b55decc1",
   "metadata": {},
   "outputs": [],
   "source": []
  }
 ],
 "metadata": {
  "kernelspec": {
   "display_name": "Python 3 (ipykernel)",
   "language": "python",
   "name": "python3"
  },
  "language_info": {
   "codemirror_mode": {
    "name": "ipython",
    "version": 3
   },
   "file_extension": ".py",
   "mimetype": "text/x-python",
   "name": "python",
   "nbconvert_exporter": "python",
   "pygments_lexer": "ipython3",
   "version": "3.12.2"
  }
 },
 "nbformat": 4,
 "nbformat_minor": 5
}

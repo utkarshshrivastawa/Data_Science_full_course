{
 "cells": [
  {
   "cell_type": "code",
   "execution_count": 1,
   "id": "d57a40d2-2bf3-4e8f-9d73-ea2a9adcb7d7",
   "metadata": {},
   "outputs": [],
   "source": [
    "import scipy.stats as st\n",
    "import numpy as np\n"
   ]
  },
  {
   "cell_type": "code",
   "execution_count": 3,
   "id": "3f5b6b51-d268-4e42-b4b2-85dd0290e0d7",
   "metadata": {},
   "outputs": [
    {
     "data": {
      "text/plain": [
       "-1.7108820799094282"
      ]
     },
     "execution_count": 3,
     "metadata": {},
     "output_type": "execute_result"
    }
   ],
   "source": [
    "# for finding alpha (a) we have to kow about degree of freedom \n",
    "t_table = st.t.ppf(0.05,24)\n",
    "t_table "
   ]
  },
  {
   "cell_type": "code",
   "execution_count": 4,
   "id": "481c29c5-0d49-49c3-9cbb-153dc411cc53",
   "metadata": {},
   "outputs": [],
   "source": [
    "population_mean = 150\n",
    "sample_mean = 148\n",
    "sample_sd = 5\n",
    "no_of_ele = 25"
   ]
  },
  {
   "cell_type": "code",
   "execution_count": 5,
   "id": "818ce91d-35ee-4196-badc-99b30736cbbe",
   "metadata": {},
   "outputs": [],
   "source": [
    "t_test = (sample_mean - population_mean )/(sample_sd/np.sqrt(no_of_ele))"
   ]
  },
  {
   "cell_type": "code",
   "execution_count": 6,
   "id": "6392c80a-8aac-4177-bb11-20acca284eaa",
   "metadata": {},
   "outputs": [
    {
     "data": {
      "text/plain": [
       "-2.0"
      ]
     },
     "execution_count": 6,
     "metadata": {},
     "output_type": "execute_result"
    }
   ],
   "source": [
    "t_test"
   ]
  },
  {
   "cell_type": "code",
   "execution_count": 8,
   "id": "b9f84973-973f-4883-a0d1-257c5960ce4a",
   "metadata": {},
   "outputs": [
    {
     "name": "stdout",
     "output_type": "stream",
     "text": [
      "Ha is right\n"
     ]
    }
   ],
   "source": [
    "if t_test > t_table : \n",
    "    print(\"H1 is right\")\n",
    "else :\n",
    "    print(\"Ha is right\")"
   ]
  },
  {
   "cell_type": "code",
   "execution_count": null,
   "id": "142b5fe1-5667-4f33-aa3d-2f4a7b13820d",
   "metadata": {},
   "outputs": [],
   "source": []
  }
 ],
 "metadata": {
  "kernelspec": {
   "display_name": "Python 3 (ipykernel)",
   "language": "python",
   "name": "python3"
  },
  "language_info": {
   "codemirror_mode": {
    "name": "ipython",
    "version": 3
   },
   "file_extension": ".py",
   "mimetype": "text/x-python",
   "name": "python",
   "nbconvert_exporter": "python",
   "pygments_lexer": "ipython3",
   "version": "3.12.2"
  }
 },
 "nbformat": 4,
 "nbformat_minor": 5
}

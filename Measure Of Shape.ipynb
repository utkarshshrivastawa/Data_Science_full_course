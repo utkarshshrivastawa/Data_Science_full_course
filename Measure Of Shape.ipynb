{
 "cells": [
  {
   "cell_type": "code",
   "execution_count": 1,
   "id": "334d0d5e-0f3c-4027-b99a-28df3a209f2b",
   "metadata": {},
   "outputs": [],
   "source": [
    "import pandas as pd\n",
    "import numpy as np\n",
    "import matplotlib.pyplot as plt\n",
    "import seaborn as sns"
   ]
  },
  {
   "cell_type": "code",
   "execution_count": 2,
   "id": "70c9466c-af20-41b6-bc59-82812ab9947f",
   "metadata": {},
   "outputs": [],
   "source": [
    "df = pd.read_csv(r\"C:\\Users\\utkar\\Desktop\\Data Science basic to adv\\tested.csv\")"
   ]
  },
  {
   "cell_type": "code",
   "execution_count": 3,
   "id": "76013c94-c4c7-4607-a8d8-31e80423f60b",
   "metadata": {},
   "outputs": [
    {
     "data": {
      "text/html": [
       "<div>\n",
       "<style scoped>\n",
       "    .dataframe tbody tr th:only-of-type {\n",
       "        vertical-align: middle;\n",
       "    }\n",
       "\n",
       "    .dataframe tbody tr th {\n",
       "        vertical-align: top;\n",
       "    }\n",
       "\n",
       "    .dataframe thead th {\n",
       "        text-align: right;\n",
       "    }\n",
       "</style>\n",
       "<table border=\"1\" class=\"dataframe\">\n",
       "  <thead>\n",
       "    <tr style=\"text-align: right;\">\n",
       "      <th></th>\n",
       "      <th>PassengerId</th>\n",
       "      <th>Survived</th>\n",
       "      <th>Pclass</th>\n",
       "      <th>Name</th>\n",
       "      <th>Sex</th>\n",
       "      <th>Age</th>\n",
       "      <th>SibSp</th>\n",
       "      <th>Parch</th>\n",
       "      <th>Ticket</th>\n",
       "      <th>Fare</th>\n",
       "      <th>Cabin</th>\n",
       "      <th>Embarked</th>\n",
       "    </tr>\n",
       "  </thead>\n",
       "  <tbody>\n",
       "    <tr>\n",
       "      <th>0</th>\n",
       "      <td>892</td>\n",
       "      <td>0</td>\n",
       "      <td>3</td>\n",
       "      <td>Kelly, Mr. James</td>\n",
       "      <td>male</td>\n",
       "      <td>34.5</td>\n",
       "      <td>0</td>\n",
       "      <td>0</td>\n",
       "      <td>330911</td>\n",
       "      <td>7.8292</td>\n",
       "      <td>NaN</td>\n",
       "      <td>Q</td>\n",
       "    </tr>\n",
       "    <tr>\n",
       "      <th>1</th>\n",
       "      <td>893</td>\n",
       "      <td>1</td>\n",
       "      <td>3</td>\n",
       "      <td>Wilkes, Mrs. James (Ellen Needs)</td>\n",
       "      <td>female</td>\n",
       "      <td>47.0</td>\n",
       "      <td>1</td>\n",
       "      <td>0</td>\n",
       "      <td>363272</td>\n",
       "      <td>7.0000</td>\n",
       "      <td>NaN</td>\n",
       "      <td>S</td>\n",
       "    </tr>\n",
       "    <tr>\n",
       "      <th>2</th>\n",
       "      <td>894</td>\n",
       "      <td>0</td>\n",
       "      <td>2</td>\n",
       "      <td>Myles, Mr. Thomas Francis</td>\n",
       "      <td>male</td>\n",
       "      <td>62.0</td>\n",
       "      <td>0</td>\n",
       "      <td>0</td>\n",
       "      <td>240276</td>\n",
       "      <td>9.6875</td>\n",
       "      <td>NaN</td>\n",
       "      <td>Q</td>\n",
       "    </tr>\n",
       "    <tr>\n",
       "      <th>3</th>\n",
       "      <td>895</td>\n",
       "      <td>0</td>\n",
       "      <td>3</td>\n",
       "      <td>Wirz, Mr. Albert</td>\n",
       "      <td>male</td>\n",
       "      <td>27.0</td>\n",
       "      <td>0</td>\n",
       "      <td>0</td>\n",
       "      <td>315154</td>\n",
       "      <td>8.6625</td>\n",
       "      <td>NaN</td>\n",
       "      <td>S</td>\n",
       "    </tr>\n",
       "    <tr>\n",
       "      <th>4</th>\n",
       "      <td>896</td>\n",
       "      <td>1</td>\n",
       "      <td>3</td>\n",
       "      <td>Hirvonen, Mrs. Alexander (Helga E Lindqvist)</td>\n",
       "      <td>female</td>\n",
       "      <td>22.0</td>\n",
       "      <td>1</td>\n",
       "      <td>1</td>\n",
       "      <td>3101298</td>\n",
       "      <td>12.2875</td>\n",
       "      <td>NaN</td>\n",
       "      <td>S</td>\n",
       "    </tr>\n",
       "  </tbody>\n",
       "</table>\n",
       "</div>"
      ],
      "text/plain": [
       "   PassengerId  Survived  Pclass  \\\n",
       "0          892         0       3   \n",
       "1          893         1       3   \n",
       "2          894         0       2   \n",
       "3          895         0       3   \n",
       "4          896         1       3   \n",
       "\n",
       "                                           Name     Sex   Age  SibSp  Parch  \\\n",
       "0                              Kelly, Mr. James    male  34.5      0      0   \n",
       "1              Wilkes, Mrs. James (Ellen Needs)  female  47.0      1      0   \n",
       "2                     Myles, Mr. Thomas Francis    male  62.0      0      0   \n",
       "3                              Wirz, Mr. Albert    male  27.0      0      0   \n",
       "4  Hirvonen, Mrs. Alexander (Helga E Lindqvist)  female  22.0      1      1   \n",
       "\n",
       "    Ticket     Fare Cabin Embarked  \n",
       "0   330911   7.8292   NaN        Q  \n",
       "1   363272   7.0000   NaN        S  \n",
       "2   240276   9.6875   NaN        Q  \n",
       "3   315154   8.6625   NaN        S  \n",
       "4  3101298  12.2875   NaN        S  "
      ]
     },
     "execution_count": 3,
     "metadata": {},
     "output_type": "execute_result"
    }
   ],
   "source": [
    "df.head()"
   ]
  },
  {
   "cell_type": "code",
   "execution_count": 4,
   "id": "4d4a8c0f-223c-4284-b9f6-d05b8d501f76",
   "metadata": {},
   "outputs": [
    {
     "data": {
      "image/png": "[encoded data removed]",
      "text/plain": [
       "<Figure size 640x480 with 1 Axes>"
      ]
     },
     "metadata": {},
     "output_type": "display_data"
    }
   ],
   "source": [
    "sns.histplot(x=\"Age\", data = df)\n",
    "plt.show()"
   ]
  },
  {
   "cell_type": "code",
   "execution_count": 5,
   "id": "793655b5-3b9b-4a0e-bd83-45e8a090869d",
   "metadata": {},
   "outputs": [
    {
     "data": {
      "text/plain": [
       "0.4573612871503845"
      ]
     },
     "execution_count": 5,
     "metadata": {},
     "output_type": "execute_result"
    }
   ],
   "source": [
    "df[\"Age\"].skew() # skew() value is greater then zero then it is postive skew chart "
   ]
  },
  {
   "cell_type": "code",
   "execution_count": 6,
   "id": "6e96d5fb-71a6-4339-9571-1be79df0ef60",
   "metadata": {},
   "outputs": [
    {
     "data": {
      "text/plain": [
       "3.6872133081121405"
      ]
     },
     "execution_count": 6,
     "metadata": {},
     "output_type": "execute_result"
    }
   ],
   "source": [
    "df[\"Fare\"].skew()"
   ]
  },
  {
   "cell_type": "markdown",
   "id": "3c738e5f-8492-4fe6-b467-4aba9db45f59",
   "metadata": {},
   "source": [
    "# Negative skew chart "
   ]
  },
  {
   "cell_type": "code",
   "execution_count": 10,
   "id": "b10290b0-2c95-4345-8b5a-69f987860587",
   "metadata": {},
   "outputs": [],
   "source": [
    "df = np.random.normal(0,100,100)"
   ]
  },
  {
   "cell_type": "code",
   "execution_count": 11,
   "id": "e22c4684-240d-4d9e-b916-404c41c96dfb",
   "metadata": {},
   "outputs": [
    {
     "data": {
      "text/plain": [
       "array([-3.23496379e+01, -9.25554035e+01, -2.57905277e+01, -1.11306147e+02,\n",
       "       -1.44693933e+02, -6.27656024e+01,  2.00406696e+01,  8.95196630e+00,\n",
       "        2.18048000e+01,  1.51115786e+02,  2.86105100e+01,  4.07102028e+00,\n",
       "       -5.07490374e+01,  3.58205526e+01, -1.91737113e+01, -4.74656772e+01,\n",
       "        4.17178116e+01,  4.33690109e+01, -1.88359999e+02, -2.68336139e+01,\n",
       "        1.20130505e+02, -3.40150902e+00,  1.19726721e+02, -6.82822993e+01,\n",
       "       -9.64554311e+01,  5.20995672e+01,  4.34880023e+01,  5.89421234e+01,\n",
       "       -8.12872342e+01, -6.31842602e+01,  7.81602296e+01,  4.28789621e+01,\n",
       "        1.07443016e+02,  3.78524282e+01,  8.26121573e+01, -2.04480900e+02,\n",
       "       -7.86601667e+01,  1.41667800e+02,  1.09156210e+02, -2.09014015e+02,\n",
       "        5.91117836e+01, -1.50012489e+02,  1.36244701e+02,  5.21939136e+01,\n",
       "        1.19026890e+01, -1.88601251e-01,  1.32567003e+02, -8.87917173e+00,\n",
       "        6.63663699e+01, -3.46542144e+01, -1.70445407e+01, -2.35277872e+01,\n",
       "       -2.00790681e+02,  1.25042200e+02,  1.41623086e+01, -4.74302045e+01,\n",
       "        1.89697585e+02, -1.01905483e+02,  3.53737756e+01,  2.21968950e+01,\n",
       "        4.45613458e+01, -8.76155760e+01,  1.22542630e+01,  5.56684611e+01,\n",
       "        7.21281966e-01,  1.19509205e+02, -8.91502264e+01,  2.49717779e+02,\n",
       "        3.03563293e+01, -1.21045806e+02,  9.50144860e+01, -5.04071217e+01,\n",
       "       -5.23782475e+01, -5.54782003e+01,  2.03054823e+01, -2.47909415e+01,\n",
       "       -1.11958625e+02,  4.89799376e+01, -4.34355612e+01,  8.28391002e+01,\n",
       "        4.88523600e+01,  9.34195442e+01,  2.59009380e+00,  1.51543522e+02,\n",
       "        4.84290881e+00, -1.84768835e+02, -1.79284043e+01,  1.03596426e+02,\n",
       "       -6.94745454e+01,  7.61242829e+01,  6.64559720e+01, -7.34175299e+01,\n",
       "       -3.79487899e+01, -2.55893699e+00, -9.00434371e+01, -1.36549130e+02,\n",
       "       -1.99514356e+02,  1.84304899e+02, -1.61821971e+02, -9.32484646e+01])"
      ]
     },
     "execution_count": 11,
     "metadata": {},
     "output_type": "execute_result"
    }
   ],
   "source": [
    "df"
   ]
  },
  {
   "cell_type": "code",
   "execution_count": 16,
   "id": "e688c4b2-9815-47d4-8056-ee9cd6a75284",
   "metadata": {},
   "outputs": [],
   "source": [
    "df = pd.DataFrame({\"x\":df})"
   ]
  },
  {
   "cell_type": "code",
   "execution_count": 18,
   "id": "61335731-9ea8-4830-811c-e17cc0e11e2d",
   "metadata": {},
   "outputs": [
    {
     "data": {
      "text/plain": [
       "-0.09536702043318097"
      ]
     },
     "execution_count": 18,
     "metadata": {},
     "output_type": "execute_result"
    }
   ],
   "source": [
    "df[\"x\"].skew()"
   ]
  },
  {
   "cell_type": "code",
   "execution_count": 19,
   "id": "6d264361-5578-4a91-af94-2594977484bc",
   "metadata": {},
   "outputs": [
    {
     "data": {
      "image/png": "[encoded data removed]",
      "text/plain": [
       "<Figure size 640x480 with 1 Axes>"
      ]
     },
     "metadata": {},
     "output_type": "display_data"
    }
   ],
   "source": [
    "sns.histplot(x = \"x\", data = df)\n",
    "plt.show()"
   ]
  },
  {
   "cell_type": "code",
   "execution_count": null,
   "id": "3c541987-c5d7-436d-a411-195dba93fb00",
   "metadata": {},
   "outputs": [],
   "source": []
  }
 ],
 "metadata": {
  "kernelspec": {
   "display_name": "Python 3 (ipykernel)",
   "language": "python",
   "name": "python3"
  },
  "language_info": {
   "codemirror_mode": {
    "name": "ipython",
    "version": 3
   },
   "file_extension": ".py",
   "mimetype": "text/x-python",
   "name": "python",
   "nbconvert_exporter": "python",
   "pygments_lexer": "ipython3",
   "version": "3.12.2"
  }
 },
 "nbformat": 4,
 "nbformat_minor": 5
}

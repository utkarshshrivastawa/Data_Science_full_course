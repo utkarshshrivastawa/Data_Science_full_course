{
 "cells": [
  {
   "cell_type": "code",
   "execution_count": 5,
   "id": "e6aebd14-9df5-477c-b7b7-f61e8369a881",
   "metadata": {},
   "outputs": [],
   "source": [
    "import numpy as np \n",
    "import seaborn as sns \n",
    "import matplotlib.pyplot as plt\n",
    "import pandas as pd "
   ]
  },
  {
   "cell_type": "code",
   "execution_count": 15,
   "id": "9f07612c-9a95-4c99-9a06-aff24c5bc9db",
   "metadata": {},
   "outputs": [],
   "source": [
    "data = [np.random.randint(10,100) for i in range(10000)]"
   ]
  },
  {
   "cell_type": "code",
   "execution_count": 23,
   "id": "678669a1-f60a-426b-93af-db727a86247d",
   "metadata": {},
   "outputs": [
    {
     "data": {
      "text/plain": [
       "55.1714"
      ]
     },
     "execution_count": 23,
     "metadata": {},
     "output_type": "execute_result"
    }
   ],
   "source": [
    "np.mean(data)"
   ]
  },
  {
   "cell_type": "code",
   "execution_count": 4,
   "id": "2f8808c0-803b-4891-9a76-0e85ec7cbef8",
   "metadata": {},
   "outputs": [
    {
     "data": {
      "text/plain": [
       "10000"
      ]
     },
     "execution_count": 4,
     "metadata": {},
     "output_type": "execute_result"
    }
   ],
   "source": [
    "len(data)"
   ]
  },
  {
   "cell_type": "code",
   "execution_count": 6,
   "id": "11fefe8c-0a09-400a-99ba-2f16b91c8bf4",
   "metadata": {},
   "outputs": [],
   "source": [
    "data_table = pd.DataFrame({\"Population_data\":data})"
   ]
  },
  {
   "cell_type": "code",
   "execution_count": 7,
   "id": "36918e2a-5fbf-4093-b0e7-5cb2e5bd8c02",
   "metadata": {},
   "outputs": [
    {
     "data": {
      "text/html": [
       "<div>\n",
       "<style scoped>\n",
       "    .dataframe tbody tr th:only-of-type {\n",
       "        vertical-align: middle;\n",
       "    }\n",
       "\n",
       "    .dataframe tbody tr th {\n",
       "        vertical-align: top;\n",
       "    }\n",
       "\n",
       "    .dataframe thead th {\n",
       "        text-align: right;\n",
       "    }\n",
       "</style>\n",
       "<table border=\"1\" class=\"dataframe\">\n",
       "  <thead>\n",
       "    <tr style=\"text-align: right;\">\n",
       "      <th></th>\n",
       "      <th>Population_data</th>\n",
       "    </tr>\n",
       "  </thead>\n",
       "  <tbody>\n",
       "    <tr>\n",
       "      <th>0</th>\n",
       "      <td>35</td>\n",
       "    </tr>\n",
       "    <tr>\n",
       "      <th>1</th>\n",
       "      <td>40</td>\n",
       "    </tr>\n",
       "    <tr>\n",
       "      <th>2</th>\n",
       "      <td>27</td>\n",
       "    </tr>\n",
       "    <tr>\n",
       "      <th>3</th>\n",
       "      <td>52</td>\n",
       "    </tr>\n",
       "    <tr>\n",
       "      <th>4</th>\n",
       "      <td>55</td>\n",
       "    </tr>\n",
       "    <tr>\n",
       "      <th>...</th>\n",
       "      <td>...</td>\n",
       "    </tr>\n",
       "    <tr>\n",
       "      <th>9995</th>\n",
       "      <td>70</td>\n",
       "    </tr>\n",
       "    <tr>\n",
       "      <th>9996</th>\n",
       "      <td>89</td>\n",
       "    </tr>\n",
       "    <tr>\n",
       "      <th>9997</th>\n",
       "      <td>11</td>\n",
       "    </tr>\n",
       "    <tr>\n",
       "      <th>9998</th>\n",
       "      <td>34</td>\n",
       "    </tr>\n",
       "    <tr>\n",
       "      <th>9999</th>\n",
       "      <td>40</td>\n",
       "    </tr>\n",
       "  </tbody>\n",
       "</table>\n",
       "<p>10000 rows × 1 columns</p>\n",
       "</div>"
      ],
      "text/plain": [
       "      Population_data\n",
       "0                  35\n",
       "1                  40\n",
       "2                  27\n",
       "3                  52\n",
       "4                  55\n",
       "...               ...\n",
       "9995               70\n",
       "9996               89\n",
       "9997               11\n",
       "9998               34\n",
       "9999               40\n",
       "\n",
       "[10000 rows x 1 columns]"
      ]
     },
     "execution_count": 7,
     "metadata": {},
     "output_type": "execute_result"
    }
   ],
   "source": [
    "data_table"
   ]
  },
  {
   "cell_type": "code",
   "execution_count": 9,
   "id": "84aa5629-9af3-407d-beed-44ee06757c8c",
   "metadata": {},
   "outputs": [
    {
     "data": {
      "image/png": "[encoded data removed]",
      "text/plain": [
       "<Figure size 640x480 with 1 Axes>"
      ]
     },
     "metadata": {},
     "output_type": "display_data"
    }
   ],
   "source": [
    "sns.kdeplot(x =\"Population_data\",data = data_table)\n",
    "plt.show()"
   ]
  },
  {
   "cell_type": "code",
   "execution_count": 16,
   "id": "d496ba3f-1cb9-42e6-9479-9ad76f909175",
   "metadata": {},
   "outputs": [],
   "source": [
    "sample_mean =[]\n",
    "for no_sample in range(50):\n",
    "    sample_data = []\n",
    "    for datai in range(500):\n",
    "        sample_data.append(np.random.choice(data))\n",
    "    sample_mean.append(np.mean(sample_data))"
   ]
  },
  {
   "cell_type": "code",
   "execution_count": 11,
   "id": "c933b652-3cb4-4754-8402-9637f305f859",
   "metadata": {},
   "outputs": [
    {
     "data": {
      "text/plain": [
       "23"
      ]
     },
     "execution_count": 11,
     "metadata": {},
     "output_type": "execute_result"
    }
   ],
   "source": [
    "np.random.choice(data)"
   ]
  },
  {
   "cell_type": "code",
   "execution_count": 17,
   "id": "a4705456-1360-481f-bfb4-98e879e03e50",
   "metadata": {},
   "outputs": [
    {
     "data": {
      "text/plain": [
       "[54.15,\n",
       " 52.456,\n",
       " 56.142,\n",
       " 56.032,\n",
       " 54.07,\n",
       " 53.824,\n",
       " 54.64,\n",
       " 55.202,\n",
       " 53.278,\n",
       " 57.514,\n",
       " 54.524,\n",
       " 52.82,\n",
       " 55.55,\n",
       " 54.916,\n",
       " 54.692,\n",
       " 53.64,\n",
       " 55.616,\n",
       " 54.636,\n",
       " 56.034,\n",
       " 55.998,\n",
       " 55.56,\n",
       " 54.406,\n",
       " 54.544,\n",
       " 56.71,\n",
       " 55.246,\n",
       " 56.296,\n",
       " 52.704,\n",
       " 54.55,\n",
       " 52.602,\n",
       " 55.95,\n",
       " 55.676,\n",
       " 55.65,\n",
       " 54.802,\n",
       " 54.578,\n",
       " 54.284,\n",
       " 55.16,\n",
       " 55.414,\n",
       " 56.2,\n",
       " 57.046,\n",
       " 55.236,\n",
       " 57.104,\n",
       " 55.854,\n",
       " 54.29,\n",
       " 56.402,\n",
       " 54.87,\n",
       " 52.972,\n",
       " 53.62,\n",
       " 56.18,\n",
       " 57.9,\n",
       " 56.682]"
      ]
     },
     "execution_count": 17,
     "metadata": {},
     "output_type": "execute_result"
    }
   ],
   "source": [
    "sample_mean"
   ]
  },
  {
   "cell_type": "code",
   "execution_count": 19,
   "id": "02d846bb-5845-4d86-b24b-2cccb42b04b1",
   "metadata": {},
   "outputs": [],
   "source": [
    "sample_table = pd.DataFrame({\"Sample_Mean\": sample_mean})"
   ]
  },
  {
   "cell_type": "code",
   "execution_count": 20,
   "id": "3d0d93b1-55b7-4fd1-870b-af536267588e",
   "metadata": {},
   "outputs": [
    {
     "data": {
      "text/html": [
       "<div>\n",
       "<style scoped>\n",
       "    .dataframe tbody tr th:only-of-type {\n",
       "        vertical-align: middle;\n",
       "    }\n",
       "\n",
       "    .dataframe tbody tr th {\n",
       "        vertical-align: top;\n",
       "    }\n",
       "\n",
       "    .dataframe thead th {\n",
       "        text-align: right;\n",
       "    }\n",
       "</style>\n",
       "<table border=\"1\" class=\"dataframe\">\n",
       "  <thead>\n",
       "    <tr style=\"text-align: right;\">\n",
       "      <th></th>\n",
       "      <th>Sample_Mean</th>\n",
       "    </tr>\n",
       "  </thead>\n",
       "  <tbody>\n",
       "    <tr>\n",
       "      <th>0</th>\n",
       "      <td>54.150</td>\n",
       "    </tr>\n",
       "    <tr>\n",
       "      <th>1</th>\n",
       "      <td>52.456</td>\n",
       "    </tr>\n",
       "    <tr>\n",
       "      <th>2</th>\n",
       "      <td>56.142</td>\n",
       "    </tr>\n",
       "    <tr>\n",
       "      <th>3</th>\n",
       "      <td>56.032</td>\n",
       "    </tr>\n",
       "    <tr>\n",
       "      <th>4</th>\n",
       "      <td>54.070</td>\n",
       "    </tr>\n",
       "    <tr>\n",
       "      <th>5</th>\n",
       "      <td>53.824</td>\n",
       "    </tr>\n",
       "    <tr>\n",
       "      <th>6</th>\n",
       "      <td>54.640</td>\n",
       "    </tr>\n",
       "    <tr>\n",
       "      <th>7</th>\n",
       "      <td>55.202</td>\n",
       "    </tr>\n",
       "    <tr>\n",
       "      <th>8</th>\n",
       "      <td>53.278</td>\n",
       "    </tr>\n",
       "    <tr>\n",
       "      <th>9</th>\n",
       "      <td>57.514</td>\n",
       "    </tr>\n",
       "    <tr>\n",
       "      <th>10</th>\n",
       "      <td>54.524</td>\n",
       "    </tr>\n",
       "    <tr>\n",
       "      <th>11</th>\n",
       "      <td>52.820</td>\n",
       "    </tr>\n",
       "    <tr>\n",
       "      <th>12</th>\n",
       "      <td>55.550</td>\n",
       "    </tr>\n",
       "    <tr>\n",
       "      <th>13</th>\n",
       "      <td>54.916</td>\n",
       "    </tr>\n",
       "    <tr>\n",
       "      <th>14</th>\n",
       "      <td>54.692</td>\n",
       "    </tr>\n",
       "    <tr>\n",
       "      <th>15</th>\n",
       "      <td>53.640</td>\n",
       "    </tr>\n",
       "    <tr>\n",
       "      <th>16</th>\n",
       "      <td>55.616</td>\n",
       "    </tr>\n",
       "    <tr>\n",
       "      <th>17</th>\n",
       "      <td>54.636</td>\n",
       "    </tr>\n",
       "    <tr>\n",
       "      <th>18</th>\n",
       "      <td>56.034</td>\n",
       "    </tr>\n",
       "    <tr>\n",
       "      <th>19</th>\n",
       "      <td>55.998</td>\n",
       "    </tr>\n",
       "    <tr>\n",
       "      <th>20</th>\n",
       "      <td>55.560</td>\n",
       "    </tr>\n",
       "    <tr>\n",
       "      <th>21</th>\n",
       "      <td>54.406</td>\n",
       "    </tr>\n",
       "    <tr>\n",
       "      <th>22</th>\n",
       "      <td>54.544</td>\n",
       "    </tr>\n",
       "    <tr>\n",
       "      <th>23</th>\n",
       "      <td>56.710</td>\n",
       "    </tr>\n",
       "    <tr>\n",
       "      <th>24</th>\n",
       "      <td>55.246</td>\n",
       "    </tr>\n",
       "    <tr>\n",
       "      <th>25</th>\n",
       "      <td>56.296</td>\n",
       "    </tr>\n",
       "    <tr>\n",
       "      <th>26</th>\n",
       "      <td>52.704</td>\n",
       "    </tr>\n",
       "    <tr>\n",
       "      <th>27</th>\n",
       "      <td>54.550</td>\n",
       "    </tr>\n",
       "    <tr>\n",
       "      <th>28</th>\n",
       "      <td>52.602</td>\n",
       "    </tr>\n",
       "    <tr>\n",
       "      <th>29</th>\n",
       "      <td>55.950</td>\n",
       "    </tr>\n",
       "    <tr>\n",
       "      <th>30</th>\n",
       "      <td>55.676</td>\n",
       "    </tr>\n",
       "    <tr>\n",
       "      <th>31</th>\n",
       "      <td>55.650</td>\n",
       "    </tr>\n",
       "    <tr>\n",
       "      <th>32</th>\n",
       "      <td>54.802</td>\n",
       "    </tr>\n",
       "    <tr>\n",
       "      <th>33</th>\n",
       "      <td>54.578</td>\n",
       "    </tr>\n",
       "    <tr>\n",
       "      <th>34</th>\n",
       "      <td>54.284</td>\n",
       "    </tr>\n",
       "    <tr>\n",
       "      <th>35</th>\n",
       "      <td>55.160</td>\n",
       "    </tr>\n",
       "    <tr>\n",
       "      <th>36</th>\n",
       "      <td>55.414</td>\n",
       "    </tr>\n",
       "    <tr>\n",
       "      <th>37</th>\n",
       "      <td>56.200</td>\n",
       "    </tr>\n",
       "    <tr>\n",
       "      <th>38</th>\n",
       "      <td>57.046</td>\n",
       "    </tr>\n",
       "    <tr>\n",
       "      <th>39</th>\n",
       "      <td>55.236</td>\n",
       "    </tr>\n",
       "    <tr>\n",
       "      <th>40</th>\n",
       "      <td>57.104</td>\n",
       "    </tr>\n",
       "    <tr>\n",
       "      <th>41</th>\n",
       "      <td>55.854</td>\n",
       "    </tr>\n",
       "    <tr>\n",
       "      <th>42</th>\n",
       "      <td>54.290</td>\n",
       "    </tr>\n",
       "    <tr>\n",
       "      <th>43</th>\n",
       "      <td>56.402</td>\n",
       "    </tr>\n",
       "    <tr>\n",
       "      <th>44</th>\n",
       "      <td>54.870</td>\n",
       "    </tr>\n",
       "    <tr>\n",
       "      <th>45</th>\n",
       "      <td>52.972</td>\n",
       "    </tr>\n",
       "    <tr>\n",
       "      <th>46</th>\n",
       "      <td>53.620</td>\n",
       "    </tr>\n",
       "    <tr>\n",
       "      <th>47</th>\n",
       "      <td>56.180</td>\n",
       "    </tr>\n",
       "    <tr>\n",
       "      <th>48</th>\n",
       "      <td>57.900</td>\n",
       "    </tr>\n",
       "    <tr>\n",
       "      <th>49</th>\n",
       "      <td>56.682</td>\n",
       "    </tr>\n",
       "  </tbody>\n",
       "</table>\n",
       "</div>"
      ],
      "text/plain": [
       "    Sample_Mean\n",
       "0        54.150\n",
       "1        52.456\n",
       "2        56.142\n",
       "3        56.032\n",
       "4        54.070\n",
       "5        53.824\n",
       "6        54.640\n",
       "7        55.202\n",
       "8        53.278\n",
       "9        57.514\n",
       "10       54.524\n",
       "11       52.820\n",
       "12       55.550\n",
       "13       54.916\n",
       "14       54.692\n",
       "15       53.640\n",
       "16       55.616\n",
       "17       54.636\n",
       "18       56.034\n",
       "19       55.998\n",
       "20       55.560\n",
       "21       54.406\n",
       "22       54.544\n",
       "23       56.710\n",
       "24       55.246\n",
       "25       56.296\n",
       "26       52.704\n",
       "27       54.550\n",
       "28       52.602\n",
       "29       55.950\n",
       "30       55.676\n",
       "31       55.650\n",
       "32       54.802\n",
       "33       54.578\n",
       "34       54.284\n",
       "35       55.160\n",
       "36       55.414\n",
       "37       56.200\n",
       "38       57.046\n",
       "39       55.236\n",
       "40       57.104\n",
       "41       55.854\n",
       "42       54.290\n",
       "43       56.402\n",
       "44       54.870\n",
       "45       52.972\n",
       "46       53.620\n",
       "47       56.180\n",
       "48       57.900\n",
       "49       56.682"
      ]
     },
     "execution_count": 20,
     "metadata": {},
     "output_type": "execute_result"
    }
   ],
   "source": [
    "sample_table"
   ]
  },
  {
   "cell_type": "code",
   "execution_count": 22,
   "id": "00ab96d8-3932-4d1f-ba19-1f6a351f3de8",
   "metadata": {},
   "outputs": [
    {
     "data": {
      "image/png": "[encoded data removed]",
      "text/plain": [
       "<Figure size 640x480 with 1 Axes>"
      ]
     },
     "metadata": {},
     "output_type": "display_data"
    }
   ],
   "source": [
    "sns.kdeplot(x=\"Sample_Mean\",data = sample_table)\n",
    "plt.show()"
   ]
  },
  {
   "cell_type": "code",
   "execution_count": 24,
   "id": "bfb5530a-aaa8-4678-add2-8fef2e8f5984",
   "metadata": {},
   "outputs": [
    {
     "data": {
      "text/plain": [
       "55.084439999999994"
      ]
     },
     "execution_count": 24,
     "metadata": {},
     "output_type": "execute_result"
    }
   ],
   "source": [
    "np.mean(sample_mean )"
   ]
  },
  {
   "cell_type": "code",
   "execution_count": null,
   "id": "bed6c731-a47b-40b5-ae20-a588b5c64bd3",
   "metadata": {},
   "outputs": [],
   "source": []
  }
 ],
 "metadata": {
  "kernelspec": {
   "display_name": "Python 3 (ipykernel)",
   "language": "python",
   "name": "python3"
  },
  "language_info": {
   "codemirror_mode": {
    "name": "ipython",
    "version": 3
   },
   "file_extension": ".py",
   "mimetype": "text/x-python",
   "name": "python",
   "nbconvert_exporter": "python",
   "pygments_lexer": "ipython3",
   "version": "3.12.2"
  }
 },
 "nbformat": 4,
 "nbformat_minor": 5
}

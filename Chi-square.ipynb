{
 "cells": [
  {
   "cell_type": "code",
   "execution_count": 1,
   "id": "42eb0a7e-ab7b-4c92-a41c-8cb48ff65d9a",
   "metadata": {},
   "outputs": [],
   "source": [
    "import numpy as np\n"
   ]
  },
  {
   "cell_type": "code",
   "execution_count": 3,
   "id": "533ad451-7e79-4a54-a996-8a9ab02ae931",
   "metadata": {},
   "outputs": [],
   "source": [
    "ob = np.array([22,17,20,26,22,13])\n",
    "ex = np.array([20,20,20,20,20,20])"
   ]
  },
  {
   "cell_type": "code",
   "execution_count": 4,
   "id": "627bfaf3-ea2b-4b8a-aa08-07ad09821a12",
   "metadata": {},
   "outputs": [
    {
     "data": {
      "text/plain": [
       "array([ 2, -3,  0,  6,  2, -7])"
      ]
     },
     "execution_count": 4,
     "metadata": {},
     "output_type": "execute_result"
    }
   ],
   "source": [
    "ob-ex"
   ]
  },
  {
   "cell_type": "markdown",
   "id": "0ddff0dc-0f68-4f6f-ba27-27f08ec5896d",
   "metadata": {},
   "source": [
    "# chi - square formula\n"
   ]
  },
  {
   "cell_type": "code",
   "execution_count": 5,
   "id": "4f547be9-c61e-46dc-97ea-16f89d85b009",
   "metadata": {},
   "outputs": [
    {
     "data": {
      "text/plain": [
       "array([ 4,  9,  0, 36,  4, 49])"
      ]
     },
     "execution_count": 5,
     "metadata": {},
     "output_type": "execute_result"
    }
   ],
   "source": [
    "np.square(ob-ex)"
   ]
  },
  {
   "cell_type": "code",
   "execution_count": 8,
   "id": "0bd515c1-bf12-4992-8f74-056c3e107215",
   "metadata": {},
   "outputs": [
    {
     "data": {
      "text/plain": [
       "5.1000000000000005"
      ]
     },
     "execution_count": 8,
     "metadata": {},
     "output_type": "execute_result"
    }
   ],
   "source": [
    "# sum \n",
    "np.sum(np.square(ob-ex)/ex)"
   ]
  },
  {
   "cell_type": "code",
   "execution_count": 9,
   "id": "81157a5f-c0b3-4421-8b61-5e5271fb61c7",
   "metadata": {},
   "outputs": [],
   "source": [
    "chi_cal = np.sum(np.square(ob-ex)/ex)"
   ]
  },
  {
   "cell_type": "code",
   "execution_count": 11,
   "id": "00c548d3-ae64-4de2-bd30-7744b59cbe0d",
   "metadata": {},
   "outputs": [
    {
     "data": {
      "text/plain": [
       "5.1000000000000005"
      ]
     },
     "execution_count": 11,
     "metadata": {},
     "output_type": "execute_result"
    }
   ],
   "source": [
    "chi_cal"
   ]
  },
  {
   "cell_type": "code",
   "execution_count": null,
   "id": "27f3e6b7-0b38-4a72-b51a-83a74249a803",
   "metadata": {},
   "outputs": [],
   "source": []
  }
 ],
 "metadata": {
  "kernelspec": {
   "display_name": "Python 3 (ipykernel)",
   "language": "python",
   "name": "python3"
  },
  "language_info": {
   "codemirror_mode": {
    "name": "ipython",
    "version": 3
   },
   "file_extension": ".py",
   "mimetype": "text/x-python",
   "name": "python",
   "nbconvert_exporter": "python",
   "pygments_lexer": "ipython3",
   "version": "3.12.2"
  }
 },
 "nbformat": 4,
 "nbformat_minor": 5
}
